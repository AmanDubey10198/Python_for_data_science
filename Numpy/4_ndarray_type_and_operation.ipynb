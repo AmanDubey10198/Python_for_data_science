{
 "cells": [
  {
   "cell_type": "markdown",
   "metadata": {},
   "source": [
    "# ndarray Datatypes and operations"
   ]
  },
  {
   "cell_type": "markdown",
   "metadata": {},
   "source": [
    "### Datatypes"
   ]
  },
  {
   "cell_type": "code",
   "execution_count": 5,
   "metadata": {},
   "outputs": [
    {
     "name": "stdout",
     "output_type": "stream",
     "text": [
      "int32\n"
     ]
    }
   ],
   "source": [
    "import numpy as np\n",
    "\n",
    "ex1 = np.array([11, 12])\n",
    "print(ex1.dtype)"
   ]
  },
  {
   "cell_type": "code",
   "execution_count": 6,
   "metadata": {},
   "outputs": [
    {
     "name": "stdout",
     "output_type": "stream",
     "text": [
      "float64\n"
     ]
    }
   ],
   "source": [
    "ex2 = np.array([11.0, 12.0])\n",
    "print(ex2.dtype)"
   ]
  },
  {
   "cell_type": "code",
   "execution_count": 7,
   "metadata": {},
   "outputs": [
    {
     "name": "stdout",
     "output_type": "stream",
     "text": [
      "float64\n",
      "[11. 12.]\n"
     ]
    }
   ],
   "source": [
    "ex3 = np.array([11, 12], dtype = np.float64)\n",
    "print(ex3.dtype)\n",
    "print(ex3)"
   ]
  },
  {
   "cell_type": "code",
   "execution_count": null,
   "metadata": {},
   "outputs": [],
   "source": [
    "\n",
    "ex4 = np.array([11.0, 23.3], dtype = np.int64)\n",
    "print(ex4.dtype)\n",
    "print(ex4)\n",
    "\n",
    "### Arithmetic Array Operations:\n",
    "\n",
    "x = np.array([[111,112],[121,122]], dtype = np.int64)\n",
    "y = np.array([[211.1,212.1],[221.1,222.1]], dtype = np.float64)\n",
    "print(x)\n",
    "print(y)\n",
    "\n",
    "print(x+y)\n",
    "print()\n",
    "print(np.add(x,y))\n",
    "\n",
    "print(x - y)\n",
    "print()\n",
    "print(np.subtract(x,y))\n",
    "\n",
    "print(x*y)\n",
    "print()\n",
    "print(np.multiply(x,y))\n",
    "\n",
    "print(x/y)\n",
    "print()\n",
    "print(np.divide(x,y))\n",
    "\n",
    "print(np.sqrt(x))\n",
    "\n",
    "print(np.exp(x))"
   ]
  }
 ],
 "metadata": {
  "kernelspec": {
   "display_name": "Python 3",
   "language": "python",
   "name": "python3"
  },
  "language_info": {
   "codemirror_mode": {
    "name": "ipython",
    "version": 3
   },
   "file_extension": ".py",
   "mimetype": "text/x-python",
   "name": "python",
   "nbconvert_exporter": "python",
   "pygments_lexer": "ipython3",
   "version": "3.6.4"
  }
 },
 "nbformat": 4,
 "nbformat_minor": 2
}
