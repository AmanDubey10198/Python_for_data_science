{
 "cells": [
  {
   "cell_type": "code",
   "execution_count": 3,
   "metadata": {},
   "outputs": [],
   "source": [
    "import pandas as pd\n",
    "import matplotlib.pyplot as plt\n",
    "import numpy as np"
   ]
  },
  {
   "cell_type": "code",
   "execution_count": 6,
   "metadata": {},
   "outputs": [],
   "source": [
    "data = pd.read_csv('Indicators.csv')"
   ]
  },
  {
   "cell_type": "code",
   "execution_count": 7,
   "metadata": {},
   "outputs": [
    {
     "data": {
      "text/plain": [
       "33938748"
      ]
     },
     "execution_count": 7,
     "metadata": {},
     "output_type": "execute_result"
    }
   ],
   "source": [
    "data.size"
   ]
  },
  {
   "cell_type": "code",
   "execution_count": 8,
   "metadata": {},
   "outputs": [
    {
     "data": {
      "text/html": [
       "<div>\n",
       "<style scoped>\n",
       "    .dataframe tbody tr th:only-of-type {\n",
       "        vertical-align: middle;\n",
       "    }\n",
       "\n",
       "    .dataframe tbody tr th {\n",
       "        vertical-align: top;\n",
       "    }\n",
       "\n",
       "    .dataframe thead th {\n",
       "        text-align: right;\n",
       "    }\n",
       "</style>\n",
       "<table border=\"1\" class=\"dataframe\">\n",
       "  <thead>\n",
       "    <tr style=\"text-align: right;\">\n",
       "      <th></th>\n",
       "      <th>CountryName</th>\n",
       "      <th>CountryCode</th>\n",
       "      <th>IndicatorName</th>\n",
       "      <th>IndicatorCode</th>\n",
       "      <th>Year</th>\n",
       "      <th>Value</th>\n",
       "    </tr>\n",
       "  </thead>\n",
       "  <tbody>\n",
       "    <tr>\n",
       "      <th>0</th>\n",
       "      <td>Arab World</td>\n",
       "      <td>ARB</td>\n",
       "      <td>Adolescent fertility rate (births per 1,000 wo...</td>\n",
       "      <td>SP.ADO.TFRT</td>\n",
       "      <td>1960</td>\n",
       "      <td>1.335609e+02</td>\n",
       "    </tr>\n",
       "    <tr>\n",
       "      <th>1</th>\n",
       "      <td>Arab World</td>\n",
       "      <td>ARB</td>\n",
       "      <td>Age dependency ratio (% of working-age populat...</td>\n",
       "      <td>SP.POP.DPND</td>\n",
       "      <td>1960</td>\n",
       "      <td>8.779760e+01</td>\n",
       "    </tr>\n",
       "    <tr>\n",
       "      <th>2</th>\n",
       "      <td>Arab World</td>\n",
       "      <td>ARB</td>\n",
       "      <td>Age dependency ratio, old (% of working-age po...</td>\n",
       "      <td>SP.POP.DPND.OL</td>\n",
       "      <td>1960</td>\n",
       "      <td>6.634579e+00</td>\n",
       "    </tr>\n",
       "    <tr>\n",
       "      <th>3</th>\n",
       "      <td>Arab World</td>\n",
       "      <td>ARB</td>\n",
       "      <td>Age dependency ratio, young (% of working-age ...</td>\n",
       "      <td>SP.POP.DPND.YG</td>\n",
       "      <td>1960</td>\n",
       "      <td>8.102333e+01</td>\n",
       "    </tr>\n",
       "    <tr>\n",
       "      <th>4</th>\n",
       "      <td>Arab World</td>\n",
       "      <td>ARB</td>\n",
       "      <td>Arms exports (SIPRI trend indicator values)</td>\n",
       "      <td>MS.MIL.XPRT.KD</td>\n",
       "      <td>1960</td>\n",
       "      <td>3.000000e+06</td>\n",
       "    </tr>\n",
       "  </tbody>\n",
       "</table>\n",
       "</div>"
      ],
      "text/plain": [
       "  CountryName CountryCode                                      IndicatorName  \\\n",
       "0  Arab World         ARB  Adolescent fertility rate (births per 1,000 wo...   \n",
       "1  Arab World         ARB  Age dependency ratio (% of working-age populat...   \n",
       "2  Arab World         ARB  Age dependency ratio, old (% of working-age po...   \n",
       "3  Arab World         ARB  Age dependency ratio, young (% of working-age ...   \n",
       "4  Arab World         ARB        Arms exports (SIPRI trend indicator values)   \n",
       "\n",
       "    IndicatorCode  Year         Value  \n",
       "0     SP.ADO.TFRT  1960  1.335609e+02  \n",
       "1     SP.POP.DPND  1960  8.779760e+01  \n",
       "2  SP.POP.DPND.OL  1960  6.634579e+00  \n",
       "3  SP.POP.DPND.YG  1960  8.102333e+01  \n",
       "4  MS.MIL.XPRT.KD  1960  3.000000e+06  "
      ]
     },
     "execution_count": 8,
     "metadata": {},
     "output_type": "execute_result"
    }
   ],
   "source": [
    "data.head()"
   ]
  },
  {
   "cell_type": "code",
   "execution_count": 9,
   "metadata": {},
   "outputs": [],
   "source": [
    "india_data = data[data['CountryCode'].str.contains('IND')]"
   ]
  },
  {
   "cell_type": "code",
   "execution_count": 10,
   "metadata": {},
   "outputs": [
    {
     "data": {
      "text/html": [
       "<div>\n",
       "<style scoped>\n",
       "    .dataframe tbody tr th:only-of-type {\n",
       "        vertical-align: middle;\n",
       "    }\n",
       "\n",
       "    .dataframe tbody tr th {\n",
       "        vertical-align: top;\n",
       "    }\n",
       "\n",
       "    .dataframe thead th {\n",
       "        text-align: right;\n",
       "    }\n",
       "</style>\n",
       "<table border=\"1\" class=\"dataframe\">\n",
       "  <thead>\n",
       "    <tr style=\"text-align: right;\">\n",
       "      <th></th>\n",
       "      <th>CountryName</th>\n",
       "      <th>CountryCode</th>\n",
       "      <th>IndicatorName</th>\n",
       "      <th>IndicatorCode</th>\n",
       "      <th>Year</th>\n",
       "      <th>Value</th>\n",
       "    </tr>\n",
       "  </thead>\n",
       "  <tbody>\n",
       "    <tr>\n",
       "      <th>11561</th>\n",
       "      <td>India</td>\n",
       "      <td>IND</td>\n",
       "      <td>Adolescent fertility rate (births per 1,000 wo...</td>\n",
       "      <td>SP.ADO.TFRT</td>\n",
       "      <td>1960</td>\n",
       "      <td>103.938000</td>\n",
       "    </tr>\n",
       "    <tr>\n",
       "      <th>11562</th>\n",
       "      <td>India</td>\n",
       "      <td>IND</td>\n",
       "      <td>Age dependency ratio (% of working-age populat...</td>\n",
       "      <td>SP.POP.DPND</td>\n",
       "      <td>1960</td>\n",
       "      <td>76.559538</td>\n",
       "    </tr>\n",
       "    <tr>\n",
       "      <th>11563</th>\n",
       "      <td>India</td>\n",
       "      <td>IND</td>\n",
       "      <td>Age dependency ratio, old (% of working-age po...</td>\n",
       "      <td>SP.POP.DPND.OL</td>\n",
       "      <td>1960</td>\n",
       "      <td>5.403730</td>\n",
       "    </tr>\n",
       "    <tr>\n",
       "      <th>11564</th>\n",
       "      <td>India</td>\n",
       "      <td>IND</td>\n",
       "      <td>Age dependency ratio, young (% of working-age ...</td>\n",
       "      <td>SP.POP.DPND.YG</td>\n",
       "      <td>1960</td>\n",
       "      <td>71.155808</td>\n",
       "    </tr>\n",
       "    <tr>\n",
       "      <th>11565</th>\n",
       "      <td>India</td>\n",
       "      <td>IND</td>\n",
       "      <td>Agriculture, value added (% of GDP)</td>\n",
       "      <td>NV.AGR.TOTL.ZS</td>\n",
       "      <td>1960</td>\n",
       "      <td>42.561131</td>\n",
       "    </tr>\n",
       "  </tbody>\n",
       "</table>\n",
       "</div>"
      ],
      "text/plain": [
       "      CountryName CountryCode  \\\n",
       "11561       India         IND   \n",
       "11562       India         IND   \n",
       "11563       India         IND   \n",
       "11564       India         IND   \n",
       "11565       India         IND   \n",
       "\n",
       "                                           IndicatorName   IndicatorCode  \\\n",
       "11561  Adolescent fertility rate (births per 1,000 wo...     SP.ADO.TFRT   \n",
       "11562  Age dependency ratio (% of working-age populat...     SP.POP.DPND   \n",
       "11563  Age dependency ratio, old (% of working-age po...  SP.POP.DPND.OL   \n",
       "11564  Age dependency ratio, young (% of working-age ...  SP.POP.DPND.YG   \n",
       "11565                Agriculture, value added (% of GDP)  NV.AGR.TOTL.ZS   \n",
       "\n",
       "       Year       Value  \n",
       "11561  1960  103.938000  \n",
       "11562  1960   76.559538  \n",
       "11563  1960    5.403730  \n",
       "11564  1960   71.155808  \n",
       "11565  1960   42.561131  "
      ]
     },
     "execution_count": 10,
     "metadata": {},
     "output_type": "execute_result"
    }
   ],
   "source": [
    "india_data.head()"
   ]
  },
  {
   "cell_type": "code",
   "execution_count": 11,
   "metadata": {},
   "outputs": [],
   "source": [
    "population_indicator = india_data[india_data['IndicatorName'].str.contains('Population, total')]"
   ]
  },
  {
   "cell_type": "code",
   "execution_count": 12,
   "metadata": {},
   "outputs": [
    {
     "data": {
      "text/html": [
       "<div>\n",
       "<style scoped>\n",
       "    .dataframe tbody tr th:only-of-type {\n",
       "        vertical-align: middle;\n",
       "    }\n",
       "\n",
       "    .dataframe tbody tr th {\n",
       "        vertical-align: top;\n",
       "    }\n",
       "\n",
       "    .dataframe thead th {\n",
       "        text-align: right;\n",
       "    }\n",
       "</style>\n",
       "<table border=\"1\" class=\"dataframe\">\n",
       "  <thead>\n",
       "    <tr style=\"text-align: right;\">\n",
       "      <th></th>\n",
       "      <th>CountryName</th>\n",
       "      <th>CountryCode</th>\n",
       "      <th>IndicatorName</th>\n",
       "      <th>IndicatorCode</th>\n",
       "      <th>Year</th>\n",
       "      <th>Value</th>\n",
       "    </tr>\n",
       "  </thead>\n",
       "  <tbody>\n",
       "    <tr>\n",
       "      <th>11758</th>\n",
       "      <td>India</td>\n",
       "      <td>IND</td>\n",
       "      <td>Population, total</td>\n",
       "      <td>SP.POP.TOTL</td>\n",
       "      <td>1960</td>\n",
       "      <td>449661874.0</td>\n",
       "    </tr>\n",
       "    <tr>\n",
       "      <th>36711</th>\n",
       "      <td>India</td>\n",
       "      <td>IND</td>\n",
       "      <td>Population, total</td>\n",
       "      <td>SP.POP.TOTL</td>\n",
       "      <td>1961</td>\n",
       "      <td>458691457.0</td>\n",
       "    </tr>\n",
       "    <tr>\n",
       "      <th>64254</th>\n",
       "      <td>India</td>\n",
       "      <td>IND</td>\n",
       "      <td>Population, total</td>\n",
       "      <td>SP.POP.TOTL</td>\n",
       "      <td>1962</td>\n",
       "      <td>468054145.0</td>\n",
       "    </tr>\n",
       "    <tr>\n",
       "      <th>92704</th>\n",
       "      <td>India</td>\n",
       "      <td>IND</td>\n",
       "      <td>Population, total</td>\n",
       "      <td>SP.POP.TOTL</td>\n",
       "      <td>1963</td>\n",
       "      <td>477729958.0</td>\n",
       "    </tr>\n",
       "    <tr>\n",
       "      <th>121503</th>\n",
       "      <td>India</td>\n",
       "      <td>IND</td>\n",
       "      <td>Population, total</td>\n",
       "      <td>SP.POP.TOTL</td>\n",
       "      <td>1964</td>\n",
       "      <td>487690114.0</td>\n",
       "    </tr>\n",
       "  </tbody>\n",
       "</table>\n",
       "</div>"
      ],
      "text/plain": [
       "       CountryName CountryCode      IndicatorName IndicatorCode  Year  \\\n",
       "11758        India         IND  Population, total   SP.POP.TOTL  1960   \n",
       "36711        India         IND  Population, total   SP.POP.TOTL  1961   \n",
       "64254        India         IND  Population, total   SP.POP.TOTL  1962   \n",
       "92704        India         IND  Population, total   SP.POP.TOTL  1963   \n",
       "121503       India         IND  Population, total   SP.POP.TOTL  1964   \n",
       "\n",
       "              Value  \n",
       "11758   449661874.0  \n",
       "36711   458691457.0  \n",
       "64254   468054145.0  \n",
       "92704   477729958.0  \n",
       "121503  487690114.0  "
      ]
     },
     "execution_count": 12,
     "metadata": {},
     "output_type": "execute_result"
    }
   ],
   "source": [
    "population_indicator.head()"
   ]
  },
  {
   "cell_type": "code",
   "execution_count": 13,
   "metadata": {},
   "outputs": [],
   "source": [
    "co2emission_indicator = india_data[india_data['IndicatorName'].str.contains('CO2 emissions \\(metric')]"
   ]
  },
  {
   "cell_type": "code",
   "execution_count": 14,
   "metadata": {},
   "outputs": [
    {
     "data": {
      "text/html": [
       "<div>\n",
       "<style scoped>\n",
       "    .dataframe tbody tr th:only-of-type {\n",
       "        vertical-align: middle;\n",
       "    }\n",
       "\n",
       "    .dataframe tbody tr th {\n",
       "        vertical-align: top;\n",
       "    }\n",
       "\n",
       "    .dataframe thead th {\n",
       "        text-align: right;\n",
       "    }\n",
       "</style>\n",
       "<table border=\"1\" class=\"dataframe\">\n",
       "  <thead>\n",
       "    <tr style=\"text-align: right;\">\n",
       "      <th></th>\n",
       "      <th>CountryName</th>\n",
       "      <th>CountryCode</th>\n",
       "      <th>IndicatorName</th>\n",
       "      <th>IndicatorCode</th>\n",
       "      <th>Year</th>\n",
       "      <th>Value</th>\n",
       "    </tr>\n",
       "  </thead>\n",
       "  <tbody>\n",
       "    <tr>\n",
       "      <th>11577</th>\n",
       "      <td>India</td>\n",
       "      <td>IND</td>\n",
       "      <td>CO2 emissions (metric tons per capita)</td>\n",
       "      <td>EN.ATM.CO2E.PC</td>\n",
       "      <td>1960</td>\n",
       "      <td>0.268161</td>\n",
       "    </tr>\n",
       "    <tr>\n",
       "      <th>36513</th>\n",
       "      <td>India</td>\n",
       "      <td>IND</td>\n",
       "      <td>CO2 emissions (metric tons per capita)</td>\n",
       "      <td>EN.ATM.CO2E.PC</td>\n",
       "      <td>1961</td>\n",
       "      <td>0.284292</td>\n",
       "    </tr>\n",
       "    <tr>\n",
       "      <th>64049</th>\n",
       "      <td>India</td>\n",
       "      <td>IND</td>\n",
       "      <td>CO2 emissions (metric tons per capita)</td>\n",
       "      <td>EN.ATM.CO2E.PC</td>\n",
       "      <td>1962</td>\n",
       "      <td>0.306519</td>\n",
       "    </tr>\n",
       "    <tr>\n",
       "      <th>92493</th>\n",
       "      <td>India</td>\n",
       "      <td>IND</td>\n",
       "      <td>CO2 emissions (metric tons per capita)</td>\n",
       "      <td>EN.ATM.CO2E.PC</td>\n",
       "      <td>1963</td>\n",
       "      <td>0.322533</td>\n",
       "    </tr>\n",
       "    <tr>\n",
       "      <th>121290</th>\n",
       "      <td>India</td>\n",
       "      <td>IND</td>\n",
       "      <td>CO2 emissions (metric tons per capita)</td>\n",
       "      <td>EN.ATM.CO2E.PC</td>\n",
       "      <td>1964</td>\n",
       "      <td>0.308900</td>\n",
       "    </tr>\n",
       "  </tbody>\n",
       "</table>\n",
       "</div>"
      ],
      "text/plain": [
       "       CountryName CountryCode                           IndicatorName  \\\n",
       "11577        India         IND  CO2 emissions (metric tons per capita)   \n",
       "36513        India         IND  CO2 emissions (metric tons per capita)   \n",
       "64049        India         IND  CO2 emissions (metric tons per capita)   \n",
       "92493        India         IND  CO2 emissions (metric tons per capita)   \n",
       "121290       India         IND  CO2 emissions (metric tons per capita)   \n",
       "\n",
       "         IndicatorCode  Year     Value  \n",
       "11577   EN.ATM.CO2E.PC  1960  0.268161  \n",
       "36513   EN.ATM.CO2E.PC  1961  0.284292  \n",
       "64049   EN.ATM.CO2E.PC  1962  0.306519  \n",
       "92493   EN.ATM.CO2E.PC  1963  0.322533  \n",
       "121290  EN.ATM.CO2E.PC  1964  0.308900  "
      ]
     },
     "execution_count": 14,
     "metadata": {},
     "output_type": "execute_result"
    }
   ],
   "source": [
    "co2emission_indicator.head()"
   ]
  },
  {
   "cell_type": "code",
   "execution_count": 15,
   "metadata": {},
   "outputs": [],
   "source": [
    "mask = population_indicator['Year']<=2011\n",
    "population_indicator = population_indicator[mask]"
   ]
  },
  {
   "cell_type": "code",
   "execution_count": 16,
   "metadata": {},
   "outputs": [
    {
     "name": "stdout",
     "output_type": "stream",
     "text": [
      "2011 2011\n",
      "1960 1960\n"
     ]
    }
   ],
   "source": [
    "print(population_indicator['Year'].max() , co2emission_indicator['Year'].max())\n",
    "print(population_indicator['Year'].min() , co2emission_indicator['Year'].min())"
   ]
  },
  {
   "cell_type": "code",
   "execution_count": 17,
   "metadata": {},
   "outputs": [
    {
     "data": {
      "image/png": "[encoded data removed]",
      "text/plain": [
       "<matplotlib.figure.Figure at 0x287800096a0>"
      ]
     },
     "metadata": {},
     "output_type": "display_data"
    }
   ],
   "source": [
    "plt.plot(population_indicator['Value'] ,co2emission_indicator['Value'])\n",
    "plt.xlabel(population_indicator['IndicatorName'].iloc[0]+' (Billion)', size = 15)\n",
    "plt.ylabel(co2emission_indicator['IndicatorName'].iloc[0])\n",
    "plt.title('Population vs CO2 Emission')\n",
    "plt.show()"
   ]
  },
  {
   "cell_type": "code",
   "execution_count": 58,
   "metadata": {},
   "outputs": [],
   "source": [
    "population_indicator = india_data[india_data['IndicatorName'].str.contains('Population growth')]"
   ]
  },
  {
   "cell_type": "code",
   "execution_count": 19,
   "metadata": {},
   "outputs": [
    {
     "data": {
      "text/html": [
       "<div>\n",
       "<style scoped>\n",
       "    .dataframe tbody tr th:only-of-type {\n",
       "        vertical-align: middle;\n",
       "    }\n",
       "\n",
       "    .dataframe tbody tr th {\n",
       "        vertical-align: top;\n",
       "    }\n",
       "\n",
       "    .dataframe thead th {\n",
       "        text-align: right;\n",
       "    }\n",
       "</style>\n",
       "<table border=\"1\" class=\"dataframe\">\n",
       "  <thead>\n",
       "    <tr style=\"text-align: right;\">\n",
       "      <th></th>\n",
       "      <th>CountryName</th>\n",
       "      <th>CountryCode</th>\n",
       "      <th>IndicatorName</th>\n",
       "      <th>IndicatorCode</th>\n",
       "      <th>Year</th>\n",
       "      <th>Value</th>\n",
       "    </tr>\n",
       "  </thead>\n",
       "  <tbody>\n",
       "    <tr>\n",
       "      <th>4929882</th>\n",
       "      <td>India</td>\n",
       "      <td>IND</td>\n",
       "      <td>Population growth (annual %)</td>\n",
       "      <td>SP.POP.GROW</td>\n",
       "      <td>2010</td>\n",
       "      <td>1.374351</td>\n",
       "    </tr>\n",
       "    <tr>\n",
       "      <th>5111651</th>\n",
       "      <td>India</td>\n",
       "      <td>IND</td>\n",
       "      <td>Population growth (annual %)</td>\n",
       "      <td>SP.POP.GROW</td>\n",
       "      <td>2011</td>\n",
       "      <td>1.328401</td>\n",
       "    </tr>\n",
       "    <tr>\n",
       "      <th>5287334</th>\n",
       "      <td>India</td>\n",
       "      <td>IND</td>\n",
       "      <td>Population growth (annual %)</td>\n",
       "      <td>SP.POP.GROW</td>\n",
       "      <td>2012</td>\n",
       "      <td>1.285832</td>\n",
       "    </tr>\n",
       "    <tr>\n",
       "      <th>5453470</th>\n",
       "      <td>India</td>\n",
       "      <td>IND</td>\n",
       "      <td>Population growth (annual %)</td>\n",
       "      <td>SP.POP.GROW</td>\n",
       "      <td>2013</td>\n",
       "      <td>1.251191</td>\n",
       "    </tr>\n",
       "    <tr>\n",
       "      <th>5585598</th>\n",
       "      <td>India</td>\n",
       "      <td>IND</td>\n",
       "      <td>Population growth (annual %)</td>\n",
       "      <td>SP.POP.GROW</td>\n",
       "      <td>2014</td>\n",
       "      <td>1.226730</td>\n",
       "    </tr>\n",
       "  </tbody>\n",
       "</table>\n",
       "</div>"
      ],
      "text/plain": [
       "        CountryName CountryCode                 IndicatorName IndicatorCode  \\\n",
       "4929882       India         IND  Population growth (annual %)   SP.POP.GROW   \n",
       "5111651       India         IND  Population growth (annual %)   SP.POP.GROW   \n",
       "5287334       India         IND  Population growth (annual %)   SP.POP.GROW   \n",
       "5453470       India         IND  Population growth (annual %)   SP.POP.GROW   \n",
       "5585598       India         IND  Population growth (annual %)   SP.POP.GROW   \n",
       "\n",
       "         Year     Value  \n",
       "4929882  2010  1.374351  \n",
       "5111651  2011  1.328401  \n",
       "5287334  2012  1.285832  \n",
       "5453470  2013  1.251191  \n",
       "5585598  2014  1.226730  "
      ]
     },
     "execution_count": 19,
     "metadata": {},
     "output_type": "execute_result"
    }
   ],
   "source": [
    "population_indicator.tail()"
   ]
  },
  {
   "cell_type": "code",
   "execution_count": 20,
   "metadata": {},
   "outputs": [
    {
     "data": {
      "image/png": "[encoded data removed]",
      "text/plain": [
       "<matplotlib.figure.Figure at 0x28780012748>"
      ]
     },
     "metadata": {},
     "output_type": "display_data"
    }
   ],
   "source": [
    "plt.plot(population_indicator['Year'],population_indicator['Value'])\n",
    "plt.xlabel('Year', size=15)\n",
    "plt.ylabel(population_indicator['IndicatorName'].iloc[0])\n",
    "plt.title('Population growth')\n",
    "plt.show()"
   ]
  },
  {
   "cell_type": "code",
   "execution_count": 41,
   "metadata": {},
   "outputs": [],
   "source": [
    "population_indicator = india_data[india_data['IndicatorName'].str.contains('Population, total')]"
   ]
  },
  {
   "cell_type": "code",
   "execution_count": 22,
   "metadata": {},
   "outputs": [
    {
     "data": {
      "image/png": "[encoded data removed]",
      "text/plain": [
       "<matplotlib.figure.Figure at 0x287801f8470>"
      ]
     },
     "metadata": {},
     "output_type": "display_data"
    }
   ],
   "source": [
    "plt.plot(population_indicator['Year'],population_indicator['Value'])\n",
    "plt.xlabel('Year', size=13)\n",
    "plt.ylabel(population_indicator['IndicatorName'].iloc[0]+'(Billion)', size = 13)\n",
    "plt.title('Population Rise')\n",
    "plt.show()"
   ]
  },
  {
   "cell_type": "code",
   "execution_count": 23,
   "metadata": {},
   "outputs": [],
   "source": [
    "natural_resources_depletion = india_data[india_data['IndicatorName'].str.contains('natural resources depletion')]"
   ]
  },
  {
   "cell_type": "code",
   "execution_count": 24,
   "metadata": {},
   "outputs": [
    {
     "data": {
      "text/html": [
       "<div>\n",
       "<style scoped>\n",
       "    .dataframe tbody tr th:only-of-type {\n",
       "        vertical-align: middle;\n",
       "    }\n",
       "\n",
       "    .dataframe tbody tr th {\n",
       "        vertical-align: top;\n",
       "    }\n",
       "\n",
       "    .dataframe thead th {\n",
       "        text-align: right;\n",
       "    }\n",
       "</style>\n",
       "<table border=\"1\" class=\"dataframe\">\n",
       "  <thead>\n",
       "    <tr style=\"text-align: right;\">\n",
       "      <th></th>\n",
       "      <th>CountryName</th>\n",
       "      <th>CountryCode</th>\n",
       "      <th>IndicatorName</th>\n",
       "      <th>IndicatorCode</th>\n",
       "      <th>Year</th>\n",
       "      <th>Value</th>\n",
       "    </tr>\n",
       "  </thead>\n",
       "  <tbody>\n",
       "    <tr>\n",
       "      <th>328934</th>\n",
       "      <td>India</td>\n",
       "      <td>IND</td>\n",
       "      <td>Adjusted savings: natural resources depletion ...</td>\n",
       "      <td>NY.ADJ.DRES.GN.ZS</td>\n",
       "      <td>1970</td>\n",
       "      <td>1.779013</td>\n",
       "    </tr>\n",
       "    <tr>\n",
       "      <th>394096</th>\n",
       "      <td>India</td>\n",
       "      <td>IND</td>\n",
       "      <td>Adjusted savings: natural resources depletion ...</td>\n",
       "      <td>NY.ADJ.DRES.GN.ZS</td>\n",
       "      <td>1971</td>\n",
       "      <td>1.554959</td>\n",
       "    </tr>\n",
       "    <tr>\n",
       "      <th>463093</th>\n",
       "      <td>India</td>\n",
       "      <td>IND</td>\n",
       "      <td>Adjusted savings: natural resources depletion ...</td>\n",
       "      <td>NY.ADJ.DRES.GN.ZS</td>\n",
       "      <td>1972</td>\n",
       "      <td>1.527562</td>\n",
       "    </tr>\n",
       "    <tr>\n",
       "      <th>532794</th>\n",
       "      <td>India</td>\n",
       "      <td>IND</td>\n",
       "      <td>Adjusted savings: natural resources depletion ...</td>\n",
       "      <td>NY.ADJ.DRES.GN.ZS</td>\n",
       "      <td>1973</td>\n",
       "      <td>2.138715</td>\n",
       "    </tr>\n",
       "    <tr>\n",
       "      <th>602684</th>\n",
       "      <td>India</td>\n",
       "      <td>IND</td>\n",
       "      <td>Adjusted savings: natural resources depletion ...</td>\n",
       "      <td>NY.ADJ.DRES.GN.ZS</td>\n",
       "      <td>1974</td>\n",
       "      <td>2.537905</td>\n",
       "    </tr>\n",
       "  </tbody>\n",
       "</table>\n",
       "</div>"
      ],
      "text/plain": [
       "       CountryName CountryCode  \\\n",
       "328934       India         IND   \n",
       "394096       India         IND   \n",
       "463093       India         IND   \n",
       "532794       India         IND   \n",
       "602684       India         IND   \n",
       "\n",
       "                                            IndicatorName      IndicatorCode  \\\n",
       "328934  Adjusted savings: natural resources depletion ...  NY.ADJ.DRES.GN.ZS   \n",
       "394096  Adjusted savings: natural resources depletion ...  NY.ADJ.DRES.GN.ZS   \n",
       "463093  Adjusted savings: natural resources depletion ...  NY.ADJ.DRES.GN.ZS   \n",
       "532794  Adjusted savings: natural resources depletion ...  NY.ADJ.DRES.GN.ZS   \n",
       "602684  Adjusted savings: natural resources depletion ...  NY.ADJ.DRES.GN.ZS   \n",
       "\n",
       "        Year     Value  \n",
       "328934  1970  1.779013  \n",
       "394096  1971  1.554959  \n",
       "463093  1972  1.527562  \n",
       "532794  1973  2.138715  \n",
       "602684  1974  2.537905  "
      ]
     },
     "execution_count": 24,
     "metadata": {},
     "output_type": "execute_result"
    }
   ],
   "source": [
    "natural_resources_depletion.head()"
   ]
  },
  {
   "cell_type": "code",
   "execution_count": 25,
   "metadata": {},
   "outputs": [],
   "source": [
    "mask = population_indicator['Year']>=1970\n",
    "population_indicator = population_indicator[mask]\n",
    "population_indicator = population_indicator[:-1]"
   ]
  },
  {
   "cell_type": "code",
   "execution_count": 26,
   "metadata": {},
   "outputs": [
    {
     "name": "stdout",
     "output_type": "stream",
     "text": [
      "1970 2013\n",
      "1970 2013\n"
     ]
    }
   ],
   "source": [
    "print(population_indicator['Year'].min(),population_indicator['Year'].max())\n",
    "print(natural_resources_depletion['Year'].min(),natural_resources_depletion['Year'].max())"
   ]
  },
  {
   "cell_type": "code",
   "execution_count": 27,
   "metadata": {},
   "outputs": [
    {
     "data": {
      "text/html": [
       "<div>\n",
       "<style scoped>\n",
       "    .dataframe tbody tr th:only-of-type {\n",
       "        vertical-align: middle;\n",
       "    }\n",
       "\n",
       "    .dataframe tbody tr th {\n",
       "        vertical-align: top;\n",
       "    }\n",
       "\n",
       "    .dataframe thead th {\n",
       "        text-align: right;\n",
       "    }\n",
       "</style>\n",
       "<table border=\"1\" class=\"dataframe\">\n",
       "  <thead>\n",
       "    <tr style=\"text-align: right;\">\n",
       "      <th></th>\n",
       "      <th>CountryName</th>\n",
       "      <th>CountryCode</th>\n",
       "      <th>IndicatorName</th>\n",
       "      <th>IndicatorCode</th>\n",
       "      <th>Year</th>\n",
       "      <th>Value</th>\n",
       "    </tr>\n",
       "  </thead>\n",
       "  <tbody>\n",
       "    <tr>\n",
       "      <th>328934</th>\n",
       "      <td>India</td>\n",
       "      <td>IND</td>\n",
       "      <td>Adjusted savings: natural resources depletion ...</td>\n",
       "      <td>NY.ADJ.DRES.GN.ZS</td>\n",
       "      <td>1970</td>\n",
       "      <td>1.779013</td>\n",
       "    </tr>\n",
       "    <tr>\n",
       "      <th>394096</th>\n",
       "      <td>India</td>\n",
       "      <td>IND</td>\n",
       "      <td>Adjusted savings: natural resources depletion ...</td>\n",
       "      <td>NY.ADJ.DRES.GN.ZS</td>\n",
       "      <td>1971</td>\n",
       "      <td>1.554959</td>\n",
       "    </tr>\n",
       "    <tr>\n",
       "      <th>463093</th>\n",
       "      <td>India</td>\n",
       "      <td>IND</td>\n",
       "      <td>Adjusted savings: natural resources depletion ...</td>\n",
       "      <td>NY.ADJ.DRES.GN.ZS</td>\n",
       "      <td>1972</td>\n",
       "      <td>1.527562</td>\n",
       "    </tr>\n",
       "    <tr>\n",
       "      <th>532794</th>\n",
       "      <td>India</td>\n",
       "      <td>IND</td>\n",
       "      <td>Adjusted savings: natural resources depletion ...</td>\n",
       "      <td>NY.ADJ.DRES.GN.ZS</td>\n",
       "      <td>1973</td>\n",
       "      <td>2.138715</td>\n",
       "    </tr>\n",
       "    <tr>\n",
       "      <th>602684</th>\n",
       "      <td>India</td>\n",
       "      <td>IND</td>\n",
       "      <td>Adjusted savings: natural resources depletion ...</td>\n",
       "      <td>NY.ADJ.DRES.GN.ZS</td>\n",
       "      <td>1974</td>\n",
       "      <td>2.537905</td>\n",
       "    </tr>\n",
       "  </tbody>\n",
       "</table>\n",
       "</div>"
      ],
      "text/plain": [
       "       CountryName CountryCode  \\\n",
       "328934       India         IND   \n",
       "394096       India         IND   \n",
       "463093       India         IND   \n",
       "532794       India         IND   \n",
       "602684       India         IND   \n",
       "\n",
       "                                            IndicatorName      IndicatorCode  \\\n",
       "328934  Adjusted savings: natural resources depletion ...  NY.ADJ.DRES.GN.ZS   \n",
       "394096  Adjusted savings: natural resources depletion ...  NY.ADJ.DRES.GN.ZS   \n",
       "463093  Adjusted savings: natural resources depletion ...  NY.ADJ.DRES.GN.ZS   \n",
       "532794  Adjusted savings: natural resources depletion ...  NY.ADJ.DRES.GN.ZS   \n",
       "602684  Adjusted savings: natural resources depletion ...  NY.ADJ.DRES.GN.ZS   \n",
       "\n",
       "        Year     Value  \n",
       "328934  1970  1.779013  \n",
       "394096  1971  1.554959  \n",
       "463093  1972  1.527562  \n",
       "532794  1973  2.138715  \n",
       "602684  1974  2.537905  "
      ]
     },
     "execution_count": 27,
     "metadata": {},
     "output_type": "execute_result"
    }
   ],
   "source": [
    "natural_resources_depletion.head()"
   ]
  },
  {
   "cell_type": "code",
   "execution_count": 28,
   "metadata": {},
   "outputs": [
    {
     "data": {
      "image/png": "[encoded data removed]",
      "text/plain": [
       "<matplotlib.figure.Figure at 0x2878021eb38>"
      ]
     },
     "metadata": {},
     "output_type": "display_data"
    }
   ],
   "source": [
    "plt.plot(population_indicator['Value'],natural_resources_depletion['Value'])\n",
    "plt.ylabel('natural_resources_depletion(% of GNI)',size=10)\n",
    "plt.xlabel(population_indicator['IndicatorName'].iloc[0]+'(Billon)',size = 13)\n",
    "plt.title('Population growth')\n",
    "plt.show()"
   ]
  },
  {
   "cell_type": "code",
   "execution_count": 29,
   "metadata": {},
   "outputs": [],
   "source": [
    "co2_from_transport = india_data[india_data['IndicatorName'].str.contains('CO2 emissions from transport')]"
   ]
  },
  {
   "cell_type": "code",
   "execution_count": 30,
   "metadata": {},
   "outputs": [
    {
     "data": {
      "image/png": "[encoded data removed]",
      "text/plain": [
       "<matplotlib.figure.Figure at 0x287812ed160>"
      ]
     },
     "metadata": {},
     "output_type": "display_data"
    }
   ],
   "source": [
    "fig, ax = plt.subplots()\n",
    "ax.annotate(\"Pollution control act\",\n",
    "           xy  = (1981,19), xycoords = 'data',\n",
    "           xytext = (1981,22), textcoords = 'data',\n",
    "           arrowprops = dict(arrowstyle = \"->\",\n",
    "                            connectionstyle = \"arc3\"),\n",
    "           )\n",
    "plt.plot(co2_from_transport['Year'],co2_from_transport['Value'])\n",
    "plt.ylabel(co2_from_transport['IndicatorName'].iloc[0])\n",
    "plt.xlabel('Year',size = 15)\n",
    "plt.show()"
   ]
  },
  {
   "cell_type": "code",
   "execution_count": 55,
   "metadata": {},
   "outputs": [],
   "source": [
    "lif_exp = india_data[india_data['IndicatorName'].str.contains('Life expectancy at birth, total')]"
   ]
  },
  {
   "cell_type": "code",
   "execution_count": 59,
   "metadata": {},
   "outputs": [
    {
     "name": "stdout",
     "output_type": "stream",
     "text": [
      "1960 2013\n",
      "1960 2013\n"
     ]
    }
   ],
   "source": [
    "population_indicator = population_indicator[:-1]\n",
    "print(population_indicator['Year'].min(), population_indicator['Year'].max())\n",
    "print(lif_exp['Year'].min(), lif_exp['Year'].max())"
   ]
  },
  {
   "cell_type": "code",
   "execution_count": 60,
   "metadata": {},
   "outputs": [
    {
     "data": {
      "image/png": "[encoded data removed]",
      "text/plain": [
       "<matplotlib.figure.Figure at 0x287819620f0>"
      ]
     },
     "metadata": {},
     "output_type": "display_data"
    }
   ],
   "source": [
    "plt.lotp(population_indicator['Value'],lif_exp['Value'])\n",
    "plt.ylabel(lif_exp['IndicatorName'].iloc[0],size=10)\n",
    "plt.xlabel(population_indicator['IndicatorName'].iloc[0]+'(Billon)',size = 13)\n",
    "plt.title('Graph')\n",
    "plt.show()"
   ]
  },
  {
   "cell_type": "code",
   "execution_count": null,
   "metadata": {},
   "outputs": [],
   "source": []
  }
 ],
 "metadata": {
  "kernelspec": {
   "display_name": "Python 3",
   "language": "python",
   "name": "python3"
  },
  "language_info": {
   "codemirror_mode": {
    "name": "ipython",
    "version": 3
   },
   "file_extension": ".py",
   "mimetype": "text/x-python",
   "name": "python",
   "nbconvert_exporter": "python",
   "pygments_lexer": "ipython3",
   "version": "3.6.4"
  }
 },
 "nbformat": 4,
 "nbformat_minor": 2
}
