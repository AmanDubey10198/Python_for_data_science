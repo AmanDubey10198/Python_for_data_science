{
 "cells": [
  {
   "cell_type": "markdown",
   "metadata": {},
   "source": [
    "# Descriptive Statistics"
   ]
  },
  {
   "cell_type": "markdown",
   "metadata": {},
   "source": [
    "## Functions in Pandas\n",
    "**min(), max(), mode(), median(), mean(), std() any(), all(), Count(), Clip(), Rank(), Round()...**"
   ]
  },
  {
   "cell_type": "code",
   "execution_count": 2,
   "metadata": {},
   "outputs": [],
   "source": [
    "import pandas as pd"
   ]
  },
  {
   "cell_type": "code",
   "execution_count": 7,
   "metadata": {},
   "outputs": [],
   "source": [
    "ratings = pd.read_csv(\"./movielens/ratings.csv\")"
   ]
  },
  {
   "cell_type": "code",
   "execution_count": 8,
   "metadata": {},
   "outputs": [
    {
     "data": {
      "text/plain": [
       "count    100004.000000\n",
       "mean          3.543608\n",
       "std           1.058064\n",
       "min           0.500000\n",
       "25%           3.000000\n",
       "50%           4.000000\n",
       "75%           4.000000\n",
       "max           5.000000\n",
       "Name: rating, dtype: float64"
      ]
     },
     "execution_count": 8,
     "metadata": {},
     "output_type": "execute_result"
    }
   ],
   "source": [
    "ratings['rating'].describe()"
   ]
  },
  {
   "cell_type": "code",
   "execution_count": 9,
   "metadata": {},
   "outputs": [
    {
     "data": {
      "text/plain": [
       "3.543608255669773"
      ]
     },
     "execution_count": 9,
     "metadata": {},
     "output_type": "execute_result"
    }
   ],
   "source": [
    "ratings['rating'].mean()"
   ]
  },
  {
   "cell_type": "code",
   "execution_count": 12,
   "metadata": {},
   "outputs": [
    {
     "data": {
      "text/html": [
       "<div>\n",
       "<style scoped>\n",
       "    .dataframe tbody tr th:only-of-type {\n",
       "        vertical-align: middle;\n",
       "    }\n",
       "\n",
       "    .dataframe tbody tr th {\n",
       "        vertical-align: top;\n",
       "    }\n",
       "\n",
       "    .dataframe thead th {\n",
       "        text-align: right;\n",
       "    }\n",
       "</style>\n",
       "<table border=\"1\" class=\"dataframe\">\n",
       "  <thead>\n",
       "    <tr style=\"text-align: right;\">\n",
       "      <th></th>\n",
       "      <th>userId</th>\n",
       "      <th>movieId</th>\n",
       "      <th>rating</th>\n",
       "      <th>timestamp</th>\n",
       "    </tr>\n",
       "  </thead>\n",
       "  <tbody>\n",
       "    <tr>\n",
       "      <th>count</th>\n",
       "      <td>100004.000000</td>\n",
       "      <td>100004.000000</td>\n",
       "      <td>100004.000000</td>\n",
       "      <td>1.000040e+05</td>\n",
       "    </tr>\n",
       "    <tr>\n",
       "      <th>mean</th>\n",
       "      <td>347.011310</td>\n",
       "      <td>12548.664363</td>\n",
       "      <td>3.543608</td>\n",
       "      <td>1.129639e+09</td>\n",
       "    </tr>\n",
       "    <tr>\n",
       "      <th>std</th>\n",
       "      <td>195.163838</td>\n",
       "      <td>26369.198969</td>\n",
       "      <td>1.058064</td>\n",
       "      <td>1.916858e+08</td>\n",
       "    </tr>\n",
       "    <tr>\n",
       "      <th>min</th>\n",
       "      <td>1.000000</td>\n",
       "      <td>1.000000</td>\n",
       "      <td>0.500000</td>\n",
       "      <td>7.896520e+08</td>\n",
       "    </tr>\n",
       "    <tr>\n",
       "      <th>25%</th>\n",
       "      <td>182.000000</td>\n",
       "      <td>1028.000000</td>\n",
       "      <td>3.000000</td>\n",
       "      <td>9.658478e+08</td>\n",
       "    </tr>\n",
       "    <tr>\n",
       "      <th>50%</th>\n",
       "      <td>367.000000</td>\n",
       "      <td>2406.500000</td>\n",
       "      <td>4.000000</td>\n",
       "      <td>1.110422e+09</td>\n",
       "    </tr>\n",
       "    <tr>\n",
       "      <th>75%</th>\n",
       "      <td>520.000000</td>\n",
       "      <td>5418.000000</td>\n",
       "      <td>4.000000</td>\n",
       "      <td>1.296192e+09</td>\n",
       "    </tr>\n",
       "    <tr>\n",
       "      <th>max</th>\n",
       "      <td>671.000000</td>\n",
       "      <td>163949.000000</td>\n",
       "      <td>5.000000</td>\n",
       "      <td>1.476641e+09</td>\n",
       "    </tr>\n",
       "  </tbody>\n",
       "</table>\n",
       "</div>"
      ],
      "text/plain": [
       "              userId        movieId         rating     timestamp\n",
       "count  100004.000000  100004.000000  100004.000000  1.000040e+05\n",
       "mean      347.011310   12548.664363       3.543608  1.129639e+09\n",
       "std       195.163838   26369.198969       1.058064  1.916858e+08\n",
       "min         1.000000       1.000000       0.500000  7.896520e+08\n",
       "25%       182.000000    1028.000000       3.000000  9.658478e+08\n",
       "50%       367.000000    2406.500000       4.000000  1.110422e+09\n",
       "75%       520.000000    5418.000000       4.000000  1.296192e+09\n",
       "max       671.000000  163949.000000       5.000000  1.476641e+09"
      ]
     },
     "execution_count": 12,
     "metadata": {},
     "output_type": "execute_result"
    }
   ],
   "source": [
    "ratings.describe()"
   ]
  },
  {
   "cell_type": "code",
   "execution_count": 10,
   "metadata": {},
   "outputs": [
    {
     "data": {
      "text/plain": [
       "userId       3.470113e+02\n",
       "movieId      1.254866e+04\n",
       "rating       3.543608e+00\n",
       "timestamp    1.129639e+09\n",
       "dtype: float64"
      ]
     },
     "execution_count": 10,
     "metadata": {},
     "output_type": "execute_result"
    }
   ],
   "source": [
    "ratings.mean()"
   ]
  },
  {
   "cell_type": "code",
   "execution_count": 14,
   "metadata": {},
   "outputs": [
    {
     "data": {
      "text/plain": [
       "5.0"
      ]
     },
     "execution_count": 14,
     "metadata": {},
     "output_type": "execute_result"
    }
   ],
   "source": [
    "ratings[\"rating\"].max()"
   ]
  },
  {
   "cell_type": "code",
   "execution_count": 15,
   "metadata": {},
   "outputs": [
    {
     "data": {
      "text/plain": [
       "0.5"
      ]
     },
     "execution_count": 15,
     "metadata": {},
     "output_type": "execute_result"
    }
   ],
   "source": [
    "ratings[\"rating\"].min()"
   ]
  },
  {
   "cell_type": "code",
   "execution_count": 16,
   "metadata": {},
   "outputs": [
    {
     "data": {
      "text/plain": [
       "1.0580641091073735"
      ]
     },
     "execution_count": 16,
     "metadata": {},
     "output_type": "execute_result"
    }
   ],
   "source": [
    "ratings[\"rating\"].std()"
   ]
  },
  {
   "cell_type": "code",
   "execution_count": 17,
   "metadata": {},
   "outputs": [
    {
     "data": {
      "text/plain": [
       "0    4.0\n",
       "dtype: float64"
      ]
     },
     "execution_count": 17,
     "metadata": {},
     "output_type": "execute_result"
    }
   ],
   "source": [
    "ratings[\"rating\"].mode()"
   ]
  },
  {
   "cell_type": "markdown",
   "metadata": {},
   "source": [
    "## Correlation"
   ]
  },
  {
   "cell_type": "code",
   "execution_count": 18,
   "metadata": {},
   "outputs": [
    {
     "data": {
      "text/html": [
       "<div>\n",
       "<style scoped>\n",
       "    .dataframe tbody tr th:only-of-type {\n",
       "        vertical-align: middle;\n",
       "    }\n",
       "\n",
       "    .dataframe tbody tr th {\n",
       "        vertical-align: top;\n",
       "    }\n",
       "\n",
       "    .dataframe thead th {\n",
       "        text-align: right;\n",
       "    }\n",
       "</style>\n",
       "<table border=\"1\" class=\"dataframe\">\n",
       "  <thead>\n",
       "    <tr style=\"text-align: right;\">\n",
       "      <th></th>\n",
       "      <th>userId</th>\n",
       "      <th>movieId</th>\n",
       "      <th>rating</th>\n",
       "      <th>timestamp</th>\n",
       "    </tr>\n",
       "  </thead>\n",
       "  <tbody>\n",
       "    <tr>\n",
       "      <th>userId</th>\n",
       "      <td>1.000000</td>\n",
       "      <td>0.007126</td>\n",
       "      <td>0.010467</td>\n",
       "      <td>-0.035072</td>\n",
       "    </tr>\n",
       "    <tr>\n",
       "      <th>movieId</th>\n",
       "      <td>0.007126</td>\n",
       "      <td>1.000000</td>\n",
       "      <td>-0.028894</td>\n",
       "      <td>0.514742</td>\n",
       "    </tr>\n",
       "    <tr>\n",
       "      <th>rating</th>\n",
       "      <td>0.010467</td>\n",
       "      <td>-0.028894</td>\n",
       "      <td>1.000000</td>\n",
       "      <td>-0.038996</td>\n",
       "    </tr>\n",
       "    <tr>\n",
       "      <th>timestamp</th>\n",
       "      <td>-0.035072</td>\n",
       "      <td>0.514742</td>\n",
       "      <td>-0.038996</td>\n",
       "      <td>1.000000</td>\n",
       "    </tr>\n",
       "  </tbody>\n",
       "</table>\n",
       "</div>"
      ],
      "text/plain": [
       "             userId   movieId    rating  timestamp\n",
       "userId     1.000000  0.007126  0.010467  -0.035072\n",
       "movieId    0.007126  1.000000 -0.028894   0.514742\n",
       "rating     0.010467 -0.028894  1.000000  -0.038996\n",
       "timestamp -0.035072  0.514742 -0.038996   1.000000"
      ]
     },
     "execution_count": 18,
     "metadata": {},
     "output_type": "execute_result"
    }
   ],
   "source": [
    "ratings.corr()"
   ]
  },
  {
   "cell_type": "code",
   "execution_count": 25,
   "metadata": {},
   "outputs": [
    {
     "name": "stdout",
     "output_type": "stream",
     "text": [
      "0         False\n",
      "1         False\n",
      "2         False\n",
      "3         False\n",
      "4         False\n",
      "5         False\n",
      "6         False\n",
      "7         False\n",
      "8         False\n",
      "9         False\n",
      "10        False\n",
      "11        False\n",
      "12        False\n",
      "13        False\n",
      "14        False\n",
      "15        False\n",
      "16        False\n",
      "17        False\n",
      "18        False\n",
      "19        False\n",
      "20        False\n",
      "21        False\n",
      "22        False\n",
      "23        False\n",
      "24        False\n",
      "25        False\n",
      "26        False\n",
      "27        False\n",
      "28        False\n",
      "29        False\n",
      "          ...  \n",
      "99974     False\n",
      "99975     False\n",
      "99976     False\n",
      "99977     False\n",
      "99978     False\n",
      "99979     False\n",
      "99980     False\n",
      "99981     False\n",
      "99982     False\n",
      "99983     False\n",
      "99984     False\n",
      "99985     False\n",
      "99986     False\n",
      "99987     False\n",
      "99988     False\n",
      "99989     False\n",
      "99990     False\n",
      "99991     False\n",
      "99992     False\n",
      "99993     False\n",
      "99994     False\n",
      "99995     False\n",
      "99996     False\n",
      "99997     False\n",
      "99998     False\n",
      "99999     False\n",
      "100000    False\n",
      "100001    False\n",
      "100002    False\n",
      "100003    False\n",
      "Name: rating, Length: 100004, dtype: bool\n"
     ]
    },
    {
     "data": {
      "text/plain": [
       "False"
      ]
     },
     "execution_count": 25,
     "metadata": {},
     "output_type": "execute_result"
    }
   ],
   "source": [
    "filter_1 = ratings['rating'] > 5\n",
    "print(filter_1)\n",
    "filter_1.any()"
   ]
  },
  {
   "cell_type": "code",
   "execution_count": 26,
   "metadata": {},
   "outputs": [
    {
     "name": "stdout",
     "output_type": "stream",
     "text": [
      "<class 'pandas.core.series.Series'>\n"
     ]
    },
    {
     "data": {
      "text/plain": [
       "True"
      ]
     },
     "execution_count": 26,
     "metadata": {},
     "output_type": "execute_result"
    }
   ],
   "source": [
    "filter_1 = ratings['rating']>0\n",
    "print(type(filter_1))\n",
    "filter_1.any()"
   ]
  },
  {
   "cell_type": "code",
   "execution_count": 29,
   "metadata": {},
   "outputs": [
    {
     "name": "stdout",
     "output_type": "stream",
     "text": [
      "0         False\n",
      "1         False\n",
      "2         False\n",
      "3         False\n",
      "4          True\n",
      "5         False\n",
      "6         False\n",
      "7         False\n",
      "8          True\n",
      "9         False\n",
      "10        False\n",
      "11        False\n",
      "12         True\n",
      "13         True\n",
      "14        False\n",
      "15        False\n",
      "16        False\n",
      "17        False\n",
      "18        False\n",
      "19        False\n",
      "20         True\n",
      "21         True\n",
      "22         True\n",
      "23         True\n",
      "24         True\n",
      "25        False\n",
      "26        False\n",
      "27         True\n",
      "28        False\n",
      "29         True\n",
      "          ...  \n",
      "99974      True\n",
      "99975      True\n",
      "99976      True\n",
      "99977      True\n",
      "99978      True\n",
      "99979      True\n",
      "99980      True\n",
      "99981      True\n",
      "99982      True\n",
      "99983      True\n",
      "99984     False\n",
      "99985     False\n",
      "99986     False\n",
      "99987      True\n",
      "99988      True\n",
      "99989      True\n",
      "99990     False\n",
      "99991      True\n",
      "99992      True\n",
      "99993      True\n",
      "99994      True\n",
      "99995      True\n",
      "99996      True\n",
      "99997      True\n",
      "99998     False\n",
      "99999     False\n",
      "100000     True\n",
      "100001     True\n",
      "100002    False\n",
      "100003     True\n",
      "Name: rating, Length: 100004, dtype: bool\n"
     ]
    },
    {
     "data": {
      "text/plain": [
       "False"
      ]
     },
     "execution_count": 29,
     "metadata": {},
     "output_type": "execute_result"
    }
   ],
   "source": [
    "filter_2 = ratings['rating'] > 3\n",
    "print(filter_2)\n",
    "filter_2.all()"
   ]
  },
  {
   "cell_type": "code",
   "execution_count": null,
   "metadata": {},
   "outputs": [],
   "source": []
  }
 ],
 "metadata": {
  "kernelspec": {
   "display_name": "Python 3",
   "language": "python",
   "name": "python3"
  },
  "language_info": {
   "codemirror_mode": {
    "name": "ipython",
    "version": 3
   },
   "file_extension": ".py",
   "mimetype": "text/x-python",
   "name": "python",
   "nbconvert_exporter": "python",
   "pygments_lexer": "ipython3",
   "version": "3.6.4"
  }
 },
 "nbformat": 4,
 "nbformat_minor": 2
}
